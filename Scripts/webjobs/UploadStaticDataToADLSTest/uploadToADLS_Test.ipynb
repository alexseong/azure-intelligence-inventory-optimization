{
 "cells": [
  {
   "cell_type": "code",
   "execution_count": 2,
   "metadata": {},
   "outputs": [],
   "source": [
    "import sys, os\n",
    "\n",
    "#from azure.datalake.store import core, lib, multithread\n",
    "import zipfile"
   ]
  },
  {
   "cell_type": "code",
   "execution_count": 3,
   "metadata": {},
   "outputs": [],
   "source": [
    "cwd = os.getcwd()"
   ]
  },
  {
   "cell_type": "code",
   "execution_count": 4,
   "metadata": {},
   "outputs": [
    {
     "data": {
      "text/plain": [
       "'/Users/alexseong/OneDrive/Education/DA/DA_EML/project/Inventory Optimization/cortana-intelligence-inventory-optimization/Manual Deployment Guide/Scripts/webjobs/UploadStaticDataToADLS'"
      ]
     },
     "execution_count": 4,
     "metadata": {},
     "output_type": "execute_result"
    }
   ],
   "source": [
    "cwd"
   ]
  },
  {
   "cell_type": "code",
   "execution_count": 11,
   "metadata": {},
   "outputs": [],
   "source": [
    "#Unzipping the RawData before uploading to Azure DataLake Store\n",
    "path_to_zip_file =cwd+'\\\\staticData.zip'\n",
    "path_to_zip_file_mac =cwd+'/staticData.zip'"
   ]
  },
  {
   "cell_type": "code",
   "execution_count": 12,
   "metadata": {},
   "outputs": [
    {
     "name": "stdout",
     "output_type": "stream",
     "text": [
      "/Users/alexseong/OneDrive/Education/DA/DA_EML/project/Inventory Optimization/cortana-intelligence-inventory-optimization/Manual Deployment Guide/Scripts/webjobs/UploadStaticDataToADLS\\staticData.zip\n",
      "/Users/alexseong/OneDrive/Education/DA/DA_EML/project/Inventory Optimization/cortana-intelligence-inventory-optimization/Manual Deployment Guide/Scripts/webjobs/UploadStaticDataToADLS/staticData.zip\n"
     ]
    }
   ],
   "source": [
    "print(path_to_zip_file)\n",
    "print(path_to_zip_file_mac)"
   ]
  },
  {
   "cell_type": "code",
   "execution_count": 16,
   "metadata": {},
   "outputs": [
    {
     "name": "stdout",
     "output_type": "stream",
     "text": [
      "total 0\r\n",
      "drwxr-xr-x    7 alexseong  staff    224 May  8 11:45 \u001b[34m.\u001b[m\u001b[m\r\n",
      "drwxr-xr-x   10 alexseong  staff    320 May  8 11:45 \u001b[34m..\u001b[m\u001b[m\r\n",
      "drwxr-xr-x    5 alexseong  staff    160 May  8 11:45 \u001b[34moptimization\u001b[m\u001b[m\r\n",
      "drwxr-xr-x    8 alexseong  staff    256 May  8 11:45 \u001b[34morders\u001b[m\u001b[m\r\n",
      "drwxr-xr-x    4 alexseong  staff    128 May  8 11:45 \u001b[34mprivateparameters\u001b[m\u001b[m\r\n",
      "drwxr-xr-x   12 alexseong  staff    384 May  8 11:45 \u001b[34mpublicparameters\u001b[m\u001b[m\r\n",
      "drwxr-xr-x  423 alexseong  staff  13536 May  8 11:45 \u001b[34mrawdata\u001b[m\u001b[m\r\n"
     ]
    }
   ],
   "source": [
    "!ls -al staticData/"
   ]
  },
  {
   "cell_type": "code",
   "execution_count": 14,
   "metadata": {},
   "outputs": [],
   "source": [
    "zip_ref = zipfile.ZipFile(path_to_zip_file_mac, 'r')\n",
    "zip_ref.extractall()\n",
    "zip_ref.close()"
   ]
  },
  {
   "cell_type": "code",
   "execution_count": null,
   "metadata": {},
   "outputs": [],
   "source": [
    "dir_list = next(os.walk())"
   ]
  },
  {
   "cell_type": "code",
   "execution_count": 24,
   "metadata": {},
   "outputs": [
    {
     "name": "stdout",
     "output_type": "stream",
     "text": [
      "publicparameters\n",
      "optimization\n",
      "privateparameters\n",
      "orders\n",
      "rawdata\n"
     ]
    }
   ],
   "source": [
    "for dir in next(os.walk('.'+'/staticData/'))[1]:\n",
    "    print(dir)"
   ]
  },
  {
   "cell_type": "code",
   "execution_count": null,
   "metadata": {},
   "outputs": [],
   "source": []
  }
 ],
 "metadata": {
  "kernelspec": {
   "display_name": "Python 3",
   "language": "python",
   "name": "python3"
  },
  "language_info": {
   "codemirror_mode": {
    "name": "ipython",
    "version": 3
   },
   "file_extension": ".py",
   "mimetype": "text/x-python",
   "name": "python",
   "nbconvert_exporter": "python",
   "pygments_lexer": "ipython3",
   "version": "3.7.1"
  }
 },
 "nbformat": 4,
 "nbformat_minor": 2
}
